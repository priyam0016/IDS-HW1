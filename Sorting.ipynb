{
 "cells": [
  {
   "cell_type": "code",
   "execution_count": 6,
   "metadata": {},
   "outputs": [
    {
     "name": "stdout",
     "output_type": "stream",
     "text": [
      "['Ant', 'Fish', 'Lizard', 'Monkey', 'Panther', 'Sheep', 'Snake']\n",
      "['Ant', 'Fish', 'Sheep', 'Snake', 'Lizard', 'Monkey', 'Panther']\n",
      "[0, 1, 2, 4, 4, 5, 6]\n",
      "[6, 5, 4, 4, 2, 1, 0]\n",
      "[(1, 2), ('Gre', 'gre-score'), (3, 'E'), (7, 3)]\n",
      "[(1, 'a'), (1, 'r'), (2, 'b'), (2, 'c'), (2, 'd')]\n"
     ]
    }
   ],
   "source": [
    "# simpe string sorting\n",
    "l = ['Ant', 'Panther', 'Monkey', 'Fish', 'Lizard', 'Sheep', 'Snake']\n",
    "l.sort()\n",
    "print (l)\n",
    "\n",
    "# sorting a string based on length\n",
    "def lenSort(s):  #Creating your own function\n",
    "  return len(s)\n",
    "\n",
    "l.sort(key=lenSort)\n",
    "print (l)\n",
    "\n",
    "#sorting a list of ints\n",
    "l = [1,4,5,6,2,4,0]\n",
    "\n",
    "l.sort()\n",
    "print(l)\n",
    "\n",
    "l.sort(reverse=True)\n",
    "print(l)\n",
    "\n",
    "# sorting a hetrogeneous dictionary based of keys\n",
    "dictionary = {\n",
    "             1:2,\n",
    "             7:3,\n",
    "             3:'E',\n",
    "             'Gre': 'gre-score'\n",
    "             }\n",
    "\n",
    "def keySort(t):\n",
    "  if type(t[0]) is int:\n",
    "    return t[0]\n",
    "  if type(t[0]) is str:\n",
    "    return len(t)\n",
    "\n",
    "#sorted function accepts two arguments here \n",
    "# 1. iterable object\n",
    "# 2. a lambda function\n",
    "print (sorted(dictionary.items(), key=keySort))   \n",
    "\n",
    "#Records having same key\n",
    "s= [(1,'a'),(2,'b'),(2,'c'),(2,'d'),(1,'r')]\n",
    "s.sort()\n",
    "print (s)"
   ]
  }
 ],
 "metadata": {
  "kernelspec": {
   "display_name": "Python 3",
   "language": "python",
   "name": "python3"
  },
  "language_info": {
   "codemirror_mode": {
    "name": "ipython",
    "version": 3
   },
   "file_extension": ".py",
   "mimetype": "text/x-python",
   "name": "python",
   "nbconvert_exporter": "python",
   "pygments_lexer": "ipython3",
   "version": "3.7.3"
  }
 },
 "nbformat": 4,
 "nbformat_minor": 2
}
