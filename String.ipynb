{
 "cells": [
  {
   "cell_type": "code",
   "execution_count": 4,
   "metadata": {},
   "outputs": [
    {
     "name": "stdout",
     "output_type": "stream",
     "text": [
      "Georgia\n",
      "Rochester\n",
      "SanDiego\n",
      "I study at 'Rutgers Business School'\n",
      "United\n",
      "States\n",
      "Of\n",
      "America\n",
      "Georgia\n",
      "Rochester\n",
      "SanDiego\n",
      "I study at 'Rutgers Business School'\n",
      "United\n",
      "States\n",
      "Of\n",
      "America\n"
     ]
    }
   ],
   "source": [
    "#String declaration and assignment\n",
    "\n",
    "s1='Georgia'\n",
    "s2=\"Rochester\"\n",
    "s3= str(\"SanDiego\")\n",
    "s4=\"I study at \\'Rutgers Business School\\'\"\n",
    "#Assigning a paragraph to a variable and not a single line\n",
    "\n",
    "s5= \"\"\"United\n",
    "States\n",
    "Of\n",
    "America\"\"\"\n",
    "\n",
    "\n",
    "print(s1)\n",
    "print(s2)\n",
    "print(s3)\n",
    "print(s4)\n",
    "print(s5)\n",
    "\n",
    "#Assigning a paragraph to a variable and not a single line\n",
    "\n",
    "s5= \"\"\"United\n",
    "States\n",
    "Of\n",
    "America\"\"\"\n",
    "\n",
    "\n",
    "print(s1)\n",
    "print(s2)\n",
    "print(s3)\n",
    "print(s4)\n",
    "print(s5)"
   ]
  },
  {
   "cell_type": "code",
   "execution_count": 5,
   "metadata": {},
   "outputs": [
    {
     "name": "stdout",
     "output_type": "stream",
     "text": [
      "String literal pool in python\n",
      "Hash code represents both variables point to same string. Thus all variables having same value point to same memory location\n",
      "5454976984516931804\n",
      "5454976984516931804\n",
      "True\n",
      "True\n",
      "NewJerseyNewJersey\n",
      "Checking string immutability\n",
      "4249689364280682686\n"
     ]
    }
   ],
   "source": [
    "#String literal pool in python\n",
    "print(\"String literal pool in python\")\n",
    "s1=\"NewJersey\"\n",
    "s2=str(\"NewJersey\")\n",
    "\n",
    "print(\"Hash code represents both variables point to same string. Thus all variables having same value point to same memory location\")\n",
    "\n",
    "print(s1.__hash__())\n",
    "print(s2.__hash__())\n",
    "\n",
    "#This represnts that if we equate above strings. They will be equal unlike Java\n",
    "\n",
    "print(s1==s2)\n",
    "print(s1.__eq__(s2)) #Other way of checking equality\n",
    "\n",
    "#String concatenation\n",
    "print(s1+s2)\n",
    "\n",
    "#Checking string immutability\n",
    "print(\"Checking string immutability\")\n",
    "print((s1+s2).__hash__()) #Represents string is not appended and a new string is created."
   ]
  },
  {
   "cell_type": "code",
   "execution_count": 6,
   "metadata": {},
   "outputs": [
    {
     "name": "stdout",
     "output_type": "stream",
     "text": [
      "w\n",
      " study\n"
     ]
    }
   ],
   "source": [
    "#################      STRING OPERATIONS     #########################\n",
    "s1 = \"NewJeresy\"\n",
    "#In Python, strings are treated as Arrays\n",
    "#  1.Accessing a element from String\n",
    "\n",
    "print (s1[2])  #For string NewJersey N is at 0 position, e at 1 and w at 2, thus w is printed\\\n",
    "\n",
    "#  2.Slicing a substring from a string\n",
    "\n",
    "s2= \"I study at Rutgers\"\n",
    "print (s2[1:7]) #Both positive and negative indexes are supported"
   ]
  },
  {
   "cell_type": "code",
   "execution_count": 7,
   "metadata": {},
   "outputs": [
    {
     "name": "stdout",
     "output_type": "stream",
     "text": [
      "['Connecticut', 'and', 'Newark']\n",
      "['Apple', ' Bananas', ' Oranger', ' Grapes']\n",
      "4\n",
      "('Apple', ',', ' Bananas, Oranger, Grapes')\n"
     ]
    }
   ],
   "source": [
    "###########################  STRING FUNCTIONS   #######################\n",
    "\n",
    "#Splitting a String\n",
    "s3= \"Connecticut and Newark\"\n",
    "x= s3.split()\n",
    "print(x)  # Returns list of string with default separator as whitespace\n",
    "\n",
    "s4= \"Apple, Bananas, Oranger, Grapes\"\n",
    "y= s4.split(\",\")      #Splitting a string with any separator comma(,) in this case\n",
    "print(y)              # Returns list of string with separating at ,\n",
    "print(y.__len__())    #Returns length of array , 4 in this case\n",
    "\n",
    "#Partitioning the String\n",
    "\n",
    "s5=\"Apple, Bananas, Oranger, Grapes\"\n",
    "y=s5.partition(\",\")\n",
    "print(y)    #Divides the string into three parts, first part before separator, second part separator itself, third part after separator\n"
   ]
  },
  {
   "cell_type": "code",
   "execution_count": 8,
   "metadata": {},
   "outputs": [
    {
     "name": "stdout",
     "output_type": "stream",
     "text": [
      "False\n",
      "True\n",
      "True\n",
      "APPLE\n",
      "banana\n"
     ]
    }
   ],
   "source": [
    "#Checking whether string in upper case\n",
    "\n",
    "s5='Apple'\n",
    "s6='BANANA'\n",
    "s7='grapes'\n",
    "\n",
    "print(s5.isupper())  #Returns boolean\n",
    "print(s6.isupper())\n",
    "print(s7.islower())\n",
    "\n",
    "#Converting to upper case or to lower case\n",
    "\n",
    "print(s5.upper())  #Returns string converted to upper case, in this case prints APPLE\n",
    "print(s6.lower())  #Returns string converted to upper case, in this case prints banana"
   ]
  },
  {
   "cell_type": "code",
   "execution_count": 9,
   "metadata": {},
   "outputs": [
    {
     "name": "stdout",
     "output_type": "stream",
     "text": [
      "T\n",
      "E\n",
      "S\n",
      "T\n",
      " \n",
      "S\n",
      "C\n",
      "O\n",
      "R\n",
      "E\n"
     ]
    }
   ],
   "source": [
    "#Iterating through string\n",
    "\n",
    "#String can be considered as array of sequence of characters in Python.\n",
    "\n",
    "s1 = \"TEST SCORE\"\n",
    "for s in s1:\n",
    "    print(s)"
   ]
  },
  {
   "cell_type": "code",
   "execution_count": 10,
   "metadata": {},
   "outputs": [
    {
     "name": "stdout",
     "output_type": "stream",
     "text": [
      "11\n",
      "True\n"
     ]
    }
   ],
   "source": [
    "#Finding if a substring is contained in a string\n",
    "\n",
    "s2= \"This is my first tutorial\"\n",
    "x=s2.find(\"first\")\n",
    "print(x)       #Returns 11, the first occurence where the substring starts\n",
    "               #If substring is not found, value returned is -1\n",
    "     \n",
    "y=\"tutorial\" in s2\n",
    "print(y)      #Return true if substring is found, else false"
   ]
  },
  {
   "cell_type": "code",
   "execution_count": 11,
   "metadata": {},
   "outputs": [
    {
     "name": "stdout",
     "output_type": "stream",
     "text": [
      "Remove # all # hashtags from begin and end \n"
     ]
    }
   ],
   "source": [
    "#Strip a string, removing characters from begin and end\n",
    "\n",
    "s3= \"######Remove # all # hashtags from begin and end ###\"\n",
    "print(s3.strip(\"#\"))"
   ]
  },
  {
   "cell_type": "code",
   "execution_count": 12,
   "metadata": {},
   "outputs": [
    {
     "name": "stdout",
     "output_type": "stream",
     "text": [
      "My name is Priyam\n",
      "Tom's age is 24\n"
     ]
    }
   ],
   "source": [
    "#Concatanate two string\n",
    "\n",
    "a=\"Priyam\"\n",
    "b=\"My name is \" + a\n",
    "print(b)  #Two strings will be concatanated and output will be My name is Priyam\n",
    "\n",
    "#Concatanate string and integer\n",
    "# x=24\n",
    "# y=\"Tom's age is \" + x\n",
    "# print(y)   \n",
    "#Error : can only concatanate str (not \"int\") to str. This can be resolved by using Format\n",
    "\n",
    "    #### Using Format ####\n",
    "    \n",
    "x=24\n",
    "y=\"Tom's age is {}\"\n",
    "print(y.format(x))\n"
   ]
  },
  {
   "cell_type": "code",
   "execution_count": 13,
   "metadata": {},
   "outputs": [
    {
     "name": "stdout",
     "output_type": "stream",
     "text": [
      "3\n"
     ]
    }
   ],
   "source": [
    "##### Other miscellaneous functions\n",
    "\n",
    "S1= \"2\"\n",
    "S1.isprintable #Returns true if the string is printable\n",
    "S1.isdecimal   #Returns true if the string is a decimal string\n",
    "S1.isalpha     #Returns true if the string is an alphabetic string\n",
    "S1.isspace     #Returns true if the string is a whitespace string\n",
    "S1.isascii     #Returns true if all characters in the string are ASCII\n",
    "\n",
    "S2=\"Harward\"\n",
    "print(S2.index(\"w\"))  #Returns index of w in string, In this case output will be 3"
   ]
  }
 ],
 "metadata": {
  "kernelspec": {
   "display_name": "Python 3",
   "language": "python",
   "name": "python3"
  },
  "language_info": {
   "codemirror_mode": {
    "name": "ipython",
    "version": 3
   },
   "file_extension": ".py",
   "mimetype": "text/x-python",
   "name": "python",
   "nbconvert_exporter": "python",
   "pygments_lexer": "ipython3",
   "version": "3.7.3"
  }
 },
 "nbformat": 4,
 "nbformat_minor": 2
}
