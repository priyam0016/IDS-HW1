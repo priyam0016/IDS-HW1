{
 "cells": [
  {
   "cell_type": "code",
   "execution_count": null,
   "metadata": {},
   "outputs": [],
   "source": [
    "#Creating a dictionary\n",
    "\n",
    "dictionary = {\n",
    "  \"key1\" : 1,\n",
    "  \"key2\" : True,\n",
    "  \"key3\" : \"Test\",\n",
    "  \"key4\" : {\n",
    "    \"child-key1\" : 1,\n",
    "    \"child-key2\" : \"Child-Test\"\n",
    "  } \n",
    "}\n",
    "\n",
    "print()\n",
    "print(\"My-Dictionary: \" + dictionary._str_())\n",
    "\n",
    "#Accessing a key from dictionary\n",
    "print()\n",
    "print(\"access a key in dictionary key1\")\n",
    "print(dictionary[\"key1\"])\n",
    "print(dictionary.get(\"key1\"))\n",
    "\n",
    "#Iteration in dictionary\n",
    "print()\n",
    "print(\"Iterating through a dictionary\")\n",
    "for (k,v) in dictionary.items():\n",
    "  print (k+\" : \"+v._str_())\n",
    "\n",
    "#Updating a dictionary\n",
    "print()\n",
    "print(\"Update a dictionary key2\")\n",
    "dictionary.update({\"key2\" : False})\n",
    "print(dictionary._str_())\n",
    "\n",
    "\n",
    "#Getting all keys in dictionary\n",
    "print()\n",
    "print(\"All keys in the dictionary\")\n",
    "print(dictionary.keys())\n",
    "\n",
    "#Getting all values in dictionary\n",
    "print()\n",
    "print(\"All values in a dictionary\")\n",
    "print(dictionary.values())"
   ]
  }
 ],
 "metadata": {
  "kernelspec": {
   "display_name": "Python 3",
   "language": "python",
   "name": "python3"
  },
  "language_info": {
   "codemirror_mode": {
    "name": "ipython",
    "version": 3
   },
   "file_extension": ".py",
   "mimetype": "text/x-python",
   "name": "python",
   "nbconvert_exporter": "python",
   "pygments_lexer": "ipython3",
   "version": "3.7.3"
  }
 },
 "nbformat": 4,
 "nbformat_minor": 2
}
